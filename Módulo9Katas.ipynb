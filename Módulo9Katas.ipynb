{
  "cells": [
    {
      "cell_type": "markdown",
      "source": [
        "# Ejercicio: Uso de funciones en Python"
      ],
      "metadata": {}
    },
    {
      "cell_type": "markdown",
      "source": [
        "### Ejercicio 1: Trabajar con argumentos en funciones\n",
        "\n",
        "Los argumentos requeridos en las funciones se utilizan cuando las funciones necesitan que esos argumentos funcionen correctamente. En este ejercicio, construirás un informe de combustible que requiere información de varias ubicaciones de combustible en todo el cohete.\n",
        "\n"
      ],
      "metadata": {}
    },
    {
      "cell_type": "markdown",
      "source": [
        "> **TIP**\n",
        "> Dedica unos minutos para tratar de encontrar una solución. Luego desplázate hacia abajo hasta la parte inferior para ver si has logrado compilar el programa de acuerdo con las especificaciones\n",
        "\n",
        "Comienza por crear una función que necesite tres lecturas de combustible y devuelva un informe:"
      ],
      "metadata": {}
    },
    {
      "cell_type": "code",
      "execution_count": null,
      "source": [
        "# Función para leer 3 tanques de combustible y muestre el promedio\r\n",
        "\r\n",
        "def promedio(tanque1, tanque2, tanque3):\r\n",
        "    suma = tanque1 + tanque2 + tanque3\r\n",
        "    return f\"\"\"El promedio de los tanque es: {str(suma / 3)}\r\n",
        "            Tanque1 = { tanque1 }\r\n",
        "            Tanque2 = { tanque2 }\r\n",
        "            Tanque3 = { tanque3 } \"\"\"\r\n"
      ],
      "outputs": [],
      "metadata": {}
    },
    {
      "cell_type": "markdown",
      "source": [
        "Ahora que hemos definido la función de informes, vamos a comprobarlo. Para esta misión, los tanques no están llenos:"
      ],
      "metadata": {}
    },
    {
      "cell_type": "code",
      "execution_count": null,
      "source": [
        "\r\n",
        "# Llamamos a la función que genera el reporte print(funcion(tanque1, tanque2, tanque3))\r\n",
        "\r\n",
        "print(promedio(33,22,44))"
      ],
      "outputs": [],
      "metadata": {}
    },
    {
      "cell_type": "markdown",
      "source": [
        "En lugar de simplemente crear el informe, la función también está calculando el promedio. Mejora la legibilidad extrayendo el cálculo promedio de la función en una nueva función para que el promedio se pueda hacer de forma independiente:"
      ],
      "metadata": {}
    },
    {
      "cell_type": "code",
      "execution_count": null,
      "source": [
        "# Función promedio \r\n",
        "\r\n",
        "def f_promed(valores):\r\n",
        "    total = sum(valores)\r\n",
        "    items = len(valores)\r\n",
        "    return total / items\r\n",
        "\r\n",
        "# Test the averaging function with a list of integers:\r\n",
        "promedio([33, 22, 44]) "
      ],
      "outputs": [],
      "metadata": {}
    },
    {
      "cell_type": "markdown",
      "source": [
        "Ahora actualiza la función de informes para llamando a la nueva función del promedio:\n"
      ],
      "metadata": {}
    },
    {
      "cell_type": "code",
      "execution_count": null,
      "source": [
        "# Actualiza la función\r\n",
        "\r\n",
        "def promedio(tanque1, tanque2, tanque3):\r\n",
        "    return f\"\"\"El promedio de los tanque es:{ f_promed([tanque1, tanque2, tanque3]) }\r\n",
        "            Tanque1 = { tanque1 }\r\n",
        "            Tanque2 = { tanque2 }\r\n",
        "            Tanque3 = { tanque3 } \"\"\"\r\n",
        "            \r\n",
        "print(promedio(88,22,98))"
      ],
      "outputs": [],
      "metadata": {}
    },
    {
      "cell_type": "markdown",
      "source": [
        "> Recuerda: Lo importante es intentarlo, puedes auxiliarte de internet, libros, etc. El objetivo de una kata es la comprobación de la comprensión de la lección y su aplicación inmediata a la resolución de problemas. Go for it!"
      ],
      "metadata": {}
    },
    {
      "cell_type": "markdown",
      "source": [
        "## Ejercicio 2: Trabajo con argumentos de palabra clave"
      ],
      "metadata": {}
    },
    {
      "cell_type": "markdown",
      "source": [
        "### Ejercicio : Trabajar con argumentos de palabras clave en funciones\n",
        "En este ejercicio, construirás un informe de cohete que requiere varias piezas de información, como el tiempo hasta el destino, el combustible a la izquierda y el nombre del destino. Comienza por crear una función que creará un informe preciso de la misión:"
      ],
      "metadata": {}
    },
    {
      "cell_type": "code",
      "execution_count": null,
      "source": [
        "# Función con un informe preciso de la misión. Considera hora de prelanzamiento, tiempo de vuelo, destino, tanque externo y tanque interno\r\n",
        "\r\n",
        "def report(tiempo_lanz, tiempo_vuelo, destino, tanque_externo, tanque_principal):\r\n",
        "    return f\"\"\"\r\n",
        "    Mision a {destino}\r\n",
        "    Tiempo de viaje total: {tiempo_lanz + tiempo_vuelo} minutos\r\n",
        "    Total de combustinle restante: {tanque_principal + tanque_externo} galones\r\n",
        "    \"\"\"\r\n",
        "\r\n",
        "print(report(22, 11, \"Marte\", 88822, 92983))"
      ],
      "outputs": [],
      "metadata": {}
    },
    {
      "cell_type": "markdown",
      "source": [
        "La función es problemática porque no se puede adaptar para minutos adicionales o tanques adicionales de combustible. Hazlo más flexible permitiendo cualquier número de pasos basados en el tiempo y cualquier número de tanques. En lugar de usar `*args` y `**kwargs`, aprovecha el hecho de que puedes usar cualquier nombre que desees. Asegurate que la función sea más legible mediante el uso de nombres de variables que están asociados con las entradas, como `*minutes` y `**fuel_reservoirs`:"
      ],
      "metadata": {}
    },
    {
      "cell_type": "code",
      "execution_count": null,
      "source": [
        "# Escribe tu nueva función de reporte considerando lo anterior\r\n",
        "\r\n",
        "def report(destino, *minutos, **reserva_gas):\r\n",
        "    return f\"\"\"\r\n",
        "    Mision a {destino}\r\n",
        "    Tiempo de viaje total: {sum(minutos)} minutos\r\n",
        "    Total de combustinle restante: {sum(reserva_gas.values())} galones\r\n",
        "    \"\"\"\r\n",
        "    \r\n",
        "print(report(\"Marte\", 10, 15, 51, principal=332223, externo=445434))"
      ],
      "outputs": [],
      "metadata": {}
    },
    {
      "cell_type": "markdown",
      "source": [
        "Debido a que el combustible que queda en los tanques es específico de cada tanque, actualiza la función para usar el nombre de cada tanque en el informe:"
      ],
      "metadata": {}
    },
    {
      "cell_type": "code",
      "execution_count": null,
      "source": [
        "# Escribe tu nueva función\r\n",
        "\r\n",
        "def report(destino, *minutos, **reserva_gas):\r\n",
        "    info = f\"\"\"\r\n",
        "Mision a {destino}\r\n",
        "Tiempo de viaje total: {sum(minutos)} minutos\r\n",
        "Total de combustinle restante: {sum(reserva_gas.values())} galones\r\n",
        "\"\"\"\r\n",
        "    for tanque, galones in reserva_gas.items():\r\n",
        "        info += f\"      tanque {tanque} --> {galones} galones restantes\\n\"\r\n",
        "    \r\n",
        "    return info\r\n",
        "    \r\n",
        "        \r\n",
        "        \r\n",
        "print(report(\"Marte\", 10, 15, 51, principal=332223, externo=445434))"
      ],
      "outputs": [],
      "metadata": {}
    },
    {
      "cell_type": "markdown",
      "source": [
        "## Soluciones"
      ],
      "metadata": {}
    },
    {
      "cell_type": "markdown",
      "source": [
        "## Ejercicio 1"
      ],
      "metadata": {}
    },
    {
      "cell_type": "code",
      "execution_count": null,
      "source": [
        "# Función para leer 3 tanques de combustible y muestre el promedio\r\n",
        "\r\n",
        "def generate_report(main_tank, external_tank, hydrogen_tank):\r\n",
        "    total_average = (main_tank + external_tank + hydrogen_tank) / 3\r\n",
        "    return f\"\"\"Fuel Report:\r\n",
        "    Total Average: {total_average}%\r\n",
        "    Main tank: {main_tank}%\r\n",
        "    External tank: {external_tank}%\r\n",
        "    Hydrogen tank: {hydrogen_tank}% \r\n",
        "    \"\"\"\r\n"
      ],
      "outputs": [],
      "metadata": {}
    },
    {
      "cell_type": "code",
      "execution_count": null,
      "source": [
        "# Llamamos a la función que genera el reporte print(funcion(tanque1, tanque2, tanque3))\r\n",
        "print(generate_report(80, 70, 85))"
      ],
      "outputs": [],
      "metadata": {}
    },
    {
      "cell_type": "code",
      "execution_count": null,
      "source": [
        "# Función promedio \r\n",
        "def average(values):\r\n",
        "    total = sum(values)\r\n",
        "    number_of_items = len(values)\r\n",
        "    return total / number_of_items\r\n",
        "\r\n",
        "# Test the averaging function with a list of integers:\r\n",
        "average([80, 85, 81]) "
      ],
      "outputs": [],
      "metadata": {}
    },
    {
      "cell_type": "code",
      "execution_count": null,
      "source": [
        "# Actualiza la función\r\n",
        "def generate_report(main_tank, external_tank, hydrogen_tank):\r\n",
        "    return f\"\"\"Fuel Report:\r\n",
        "    Total Average: {average([main_tank, external_tank, hydrogen_tank])}%\r\n",
        "    Main tank: {main_tank}%\r\n",
        "    External tank: {external_tank}%\r\n",
        "    Hydrogen tank: {hydrogen_tank}% \r\n",
        "    \"\"\"\r\n",
        "\r\n",
        "# Call the updated function again with different values\r\n",
        "print(generate_report(88, 76, 70))"
      ],
      "outputs": [],
      "metadata": {}
    },
    {
      "cell_type": "markdown",
      "source": [
        "### Ejercicio 2:"
      ],
      "metadata": {}
    },
    {
      "cell_type": "code",
      "execution_count": null,
      "source": [
        "# Función con un informe preciso de la misión. Considera hora de prelanzamiento, tiempo de vuelo, destino, tanque externo y tanque interno\r\n",
        "\r\n",
        "def mission_report(pre_launch_time, flight_time, destination, external_tank, main_tank):\r\n",
        "    return f\"\"\"\r\n",
        "    Mission to {destination}\r\n",
        "    Total travel time: {pre_launch_time + flight_time} minutes\r\n",
        "    Total fuel left: {external_tank + main_tank} gallons\r\n",
        "    \"\"\"\r\n",
        "\r\n",
        "print(mission_report(14, 51, \"Moon\", 200000, 300000))"
      ],
      "outputs": [],
      "metadata": {}
    },
    {
      "cell_type": "code",
      "execution_count": null,
      "source": [
        "# Escribe tu nueva función de reporte considerando lo anterior\r\n",
        "\r\n",
        "def mission_report(destination, *minutes, **fuel_reservoirs):\r\n",
        "    return f\"\"\"\r\n",
        "    Mission to {destination}\r\n",
        "    Total travel time: {sum(minutes)} minutes\r\n",
        "    Total fuel left: {sum(fuel_reservoirs.values())}\r\n",
        "    \"\"\"\r\n",
        "\r\n",
        "print(mission_report(\"Moon\", 10, 15, 51, main=300000, external=200000))"
      ],
      "outputs": [],
      "metadata": {}
    },
    {
      "cell_type": "code",
      "execution_count": null,
      "source": [
        "# Escribe tu nueva función\r\n",
        "\r\n",
        "def mission_report(destination, *minutes, **fuel_reservoirs):\r\n",
        "    main_report = f\"\"\"\r\n",
        "    Mission to {destination}\r\n",
        "    Total travel time: {sum(minutes)} minutes\r\n",
        "    Total fuel left: {sum(fuel_reservoirs.values())}\r\n",
        "    \"\"\"\r\n",
        "    for tank_name, gallons in fuel_reservoirs.items():\r\n",
        "        main_report += f\"{tank_name} tank --> {gallons} gallons left\\n\"\r\n",
        "    return main_report\r\n",
        "\r\n",
        "print(mission_report(\"Moon\", 8, 11, 55, main=300000, external=200000))"
      ],
      "outputs": [],
      "metadata": {}
    },
    {
      "cell_type": "markdown",
      "source": [
        "---\n",
        "\n",
        "Curso Propedútico de Python para Launch X - Innovacción Virtual.\n",
        "\n",
        "Material desarrollado con base en los contenidos de MSLearn y la metáfora de LaunchX, traducción e implementación por: Fernanda Ochoa - Learning Producer de LaunchX.\n",
        "\n",
        "Redes:\n",
        "* GitHub: [FernandaOchoa](https://github.com/FernandaOchoa)\n",
        "* Twitter: [@imonsh](https://twitter.com/imonsh)\n",
        "* Instagram: [fherz8a](https://www.instagram.com/fherz8a/)"
      ],
      "metadata": {}
    }
  ],
  "metadata": {
    "interpreter": {
      "hash": "18a28c16c91a406274ab2f59cc964ac3494d88838e92ff8f157216fbe7ec26de"
    },
    "kernelspec": {
      "name": "python3",
      "display_name": "Python 3.9.5 64-bit"
    },
    "language_info": {
      "codemirror_mode": {
        "name": "ipython",
        "version": 3
      },
      "file_extension": ".py",
      "mimetype": "text/x-python",
      "name": "python",
      "nbconvert_exporter": "python",
      "pygments_lexer": "ipython3",
      "version": "3.9.5"
    },
    "nteract": {
      "version": "nteract-front-end@1.0.0"
    },
    "orig_nbformat": 4
  },
  "nbformat": 4,
  "nbformat_minor": 2
}