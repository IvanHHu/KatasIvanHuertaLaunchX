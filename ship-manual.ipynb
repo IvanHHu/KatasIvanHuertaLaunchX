{
 "cells": [
  {
   "cell_type": "markdown",
   "source": [
    "# Manual de la Nave"
   ],
   "metadata": {}
  },
  {
   "cell_type": "code",
   "execution_count": null,
   "source": [
    "pip install ipywidgets"
   ],
   "outputs": [],
   "metadata": {}
  },
  {
   "cell_type": "code",
   "execution_count": null,
   "source": [
    "import ipywidgets as widgets\r\n",
    "\r\n",
    "ignition = widgets.ToggleButton(\r\n",
    "    value=False,\r\n",
    "    description='Iniciar Launch',\r\n",
    "    button_style='success',\r\n",
    "    tooltip='Engage your Launch',\r\n",
    "    icon='rocket'\r\n",
    ")\r\n",
    "\r\n",
    "output = widgets.Output()\r\n",
    "\r\n",
    "display(ignition, output)\r\n",
    "\r\n",
    "def on_value_change(change):\r\n",
    "    with output:\r\n",
    "        if change['new'] == True:\r\n",
    "            print(\"Nave Iniciada!\")\r\n",
    "        else:   \r\n",
    "            print(\"Nave Detenida\")\r\n",
    "\r\n",
    "ignition.observe(on_value_change, names='value')"
   ],
   "outputs": [],
   "metadata": {}
  },
  {
   "cell_type": "code",
   "execution_count": null,
   "source": [
    "    !pip install matplotlib\r\n",
    "    !pip install numpy"
   ],
   "outputs": [],
   "metadata": {}
  },
  {
   "cell_type": "markdown",
   "source": [
    "## Niveles de Oxígeno\r\n",
    "\r\n",
    "Muestra diez minutos de niveles de oxígeno en tu nave."
   ],
   "metadata": {}
  },
  {
   "cell_type": "code",
   "execution_count": null,
   "source": [
    "    import numpy as np\r\n",
    "    import matplotlib.pyplot as plt\r\n",
    "    data = np.random.default_rng(12345)\r\n",
    "    oxy_nums = data.integers(low=0, high=10, size=10)\r\n",
    "\r\n",
    "    plt.bar(range(len(oxy_nums)), oxy_nums)\r\n",
    "    plt.show()"
   ],
   "outputs": [],
   "metadata": {}
  },
  {
   "cell_type": "markdown",
   "source": [
    "## Velocidad de la nave\r\n",
    "\r\n",
    "Muestra los segundos necesarios para pasar de 0 a 11200 metros por segundo, dada la aceleración de la nave en metros por segundo."
   ],
   "metadata": {}
  },
  {
   "cell_type": "code",
   "execution_count": null,
   "source": [
    "endVelocity = 11200\r\n",
    "startVelocity = 0\r\n",
    "acceleration = 9.8\r\n",
    "\r\n",
    "time = (endVelocity - startVelocity) / acceleration\r\n",
    "print(\"Tiempo para alcanzar la velocidad deseada = \", time)"
   ],
   "outputs": [],
   "metadata": {}
  }
 ],
 "metadata": {
  "orig_nbformat": 4,
  "language_info": {
   "name": "python",
   "version": "3.9.5",
   "mimetype": "text/x-python",
   "codemirror_mode": {
    "name": "ipython",
    "version": 3
   },
   "pygments_lexer": "ipython3",
   "nbconvert_exporter": "python",
   "file_extension": ".py"
  },
  "kernelspec": {
   "name": "python3",
   "display_name": "Python 3.9.5 64-bit"
  },
  "interpreter": {
   "hash": "18a28c16c91a406274ab2f59cc964ac3494d88838e92ff8f157216fbe7ec26de"
  }
 },
 "nbformat": 4,
 "nbformat_minor": 2
}