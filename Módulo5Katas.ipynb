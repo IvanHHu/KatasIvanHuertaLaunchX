{
  "cells": [
    {
      "cell_type": "markdown",
      "source": [
        "# Ejercicio1 - Utilizar operadores aritméticos"
      ],
      "metadata": {}
    },
    {
      "cell_type": "markdown",
      "source": [
        "### Operadores aritméticos en Python\r\n",
        "Python proporciona operadores aritméticos comunes para que puedas realizar operaciones matemáticas en tu código. Estos incluyen las cuatro operaciones principales de suma, resta, multiplicación y división.\r\n",
        "\r\n",
        "Exploremos cómo podemos crear un programa que pueda calcular la distancia entre dos planetas.  Comenzaremos usando dos distancias de planetas: Tierra (149.597.870 km) y Júpiter (778.547.200 km).\r\n",
        "\r\n",
        "> **TIP**\r\n",
        "> Dedica unos minutos a tratar de encontrar una solución. Luego desplázate hacia abajo hasta la parte inferior para ver si has logrado compilar el programa de acuerdo con las especificaciones.\r\n",
        "\r\n",
        "**Nota:** Quita las comas cuando uses los valores."
      ],
      "metadata": {}
    },
    {
      "cell_type": "code",
      "execution_count": 12,
      "source": [
        "# Crear variables para almacenar las dos distancias\r\n",
        "# ¡Asegúrate de quitar las comas!\r\n",
        "\r\n",
        "Tierra = 149597870\r\n",
        "Jupiter = 778547200\r\n"
      ],
      "outputs": [],
      "metadata": {}
    },
    {
      "cell_type": "markdown",
      "source": [
        "### Realizar la operación\n",
        "\n",
        "Con los valores obtenidos, es el momento de añadir el código para realizar la operación. Restarás el primer planeta del segundo para determinar la distancia en kilómetros. A continuación, puedes convertir la distancia del kilómetro en millas multiplicándola por `0.621`."
      ],
      "metadata": {}
    },
    {
      "cell_type": "code",
      "execution_count": 13,
      "source": [
        "# Calcular la distancia entre planetas\r\n",
        "from math import ceil\r\n",
        "\r\n",
        "distancia = Jupiter - Tierra\r\n",
        "print ('Distancia en kilometros', distancia)\r\n",
        "\r\n",
        "millas = distancia * 0.621\r\n",
        "print ('Distancia en millas', ceil(millas))"
      ],
      "outputs": [
        {
          "output_type": "stream",
          "name": "stdout",
          "text": [
            "Distancia en kilometros 628949330\n",
            "Distancia en millas 390577534\n"
          ]
        }
      ],
      "metadata": {}
    },
    {
      "cell_type": "markdown",
      "source": [
        "### Prueba tu proyecto\n",
        "\n",
        "Con el código creado, ejecuta el notebook para obtener el resultado. Deberías recibir lo siguiente:\n",
        "\n",
        "```\n",
        "628949330\n",
        "390577534\n",
        "```\n",
        "\n",
        "> Recuerda: Lo importante es intentarlo, puedes auxiliarte de internet, libros, etc. El objetivo de una kata es la comprobación de la comprensión de la lección y su aplicación inmediata a la resolución de problemas. Go for it!\n",
        "\n",
        "---"
      ],
      "metadata": {}
    },
    {
      "cell_type": "markdown",
      "source": [
        "## Ejercicio 2: convierte cadenas en números y usa valores absolutos\n",
        "\n",
        "### Crear una aplicación para trabajar con números y entrada de usuario\n",
        "Con frecuencia, deberás convertir los valores de cadena en números para realizar correctamente diferentes operaciones o determinar el valor absoluto de un número.\n",
        "\n",
        "Para crear nuestra aplicación, queremos leer la distancia del sol para dos planetas, y luego mostrar la distancia entre los planetas. Haremos esto usando `input` para leer los valores, `int` para convertir a entero y luego `abs` para convertir el resultado en su valor absoluto."
      ],
      "metadata": {}
    },
    {
      "cell_type": "markdown",
      "source": [
        "### Lee los valores\n",
        "Usando `input`, agrega el código para leer la distancia del sol para cada planeta, considerando 2 planetas."
      ],
      "metadata": {}
    },
    {
      "cell_type": "code",
      "execution_count": 14,
      "source": [
        "# Almacenar las entradas del usuario\r\n",
        "#Pista: variable = input(\"¿Cuál es tu nombre?\")\r\n",
        "\r\n",
        "Tierra = input(\"¿Cuál es la distancia de la Tierra al Sol?\")\r\n",
        "Marte = input(\"¿Cuál es la distancia de Marte al Sol?\")"
      ],
      "outputs": [],
      "metadata": {}
    },
    {
      "cell_type": "markdown",
      "source": [
        "### Convertir a número\n",
        "Debido a que `input` devuelve valores de cadena, necesitamos convertirlos en números. Para nuestro ejemplo, usaremos `int`"
      ],
      "metadata": {}
    },
    {
      "cell_type": "code",
      "execution_count": 15,
      "source": [
        "# Convierte las cadenas de ambos planetas a números enteros\r\n",
        "\r\n",
        "Tierra = int(Tierra)\r\n",
        "Marte = int(Marte)"
      ],
      "outputs": [],
      "metadata": {}
    },
    {
      "cell_type": "markdown",
      "source": [
        "### Realizar el cálculo y convertir a valor absoluto\n",
        "\n",
        "Con los valores almacenados como números, ahora puedes agregar el código para realizar el cálculo, restando el primer planeta del segundo. Debido a que el segundo planeta podría ser un número mayor, usarás `abs` para convertirlo a un valor absoluto. También agregarás el código para mostrar el resultado en millas multiplicando la distancia del kilómetro por 0.621"
      ],
      "metadata": {}
    },
    {
      "cell_type": "code",
      "execution_count": 16,
      "source": [
        "# Realizar el cálculo y determinar el valor absoluto\r\n",
        "\r\n",
        "distancia = Marte - Tierra\r\n",
        "print ('Distancia en kilometros', distancia)\r\n",
        "\r\n",
        "# Convertir de KM a Millas\r\n",
        "\r\n",
        "millas = abs(distancia * 0.621)\r\n",
        "print ('Distancia en millas', ceil(millas))"
      ],
      "outputs": [
        {
          "output_type": "stream",
          "name": "stdout",
          "text": [
            "Distancia en kilometros 50300000\n",
            "Distancia en millas 31236300\n"
          ]
        }
      ],
      "metadata": {}
    },
    {
      "cell_type": "markdown",
      "source": [
        "### Prueba tu aplicación\r\n",
        "Para probar el proyecto, ejecuta tu notebook. En la parte superior de vscode surgirá un cuadro de diálogo para que proporciones las distancias. Puede utilizar los datos de la tabla siguiente:\r\n",
        "\r\n",
        "| Planeta  | Distancia al sol |\r\n",
        "| ------- | ----------------- |\r\n",
        "| Mercurio | 57900000          |\r\n",
        "| Venus   | 108200000         |\r\n",
        "| Tierra   | 149600000         |\r\n",
        "| Marte    | 227900000         |\r\n",
        "| Júpiter | 778600000         |\r\n",
        "| Saturno  | 1433500000        |\r\n",
        "| Urano  | 2872500000        |\r\n",
        "| Neptuno | 4495100000        |"
      ],
      "metadata": {}
    },
    {
      "cell_type": "markdown",
      "source": [
        "## Soluciones"
      ],
      "metadata": {}
    },
    {
      "cell_type": "markdown",
      "source": [
        "### Ejercicio 1"
      ],
      "metadata": {}
    },
    {
      "cell_type": "code",
      "execution_count": 17,
      "source": [
        "# Crear variables para almacenar las dos distancias\r\n",
        "# ¡Asegúrate de quitar las comas!\r\n",
        "\r\n",
        "first_planet = 149597870\r\n",
        "second_planet = 778547200"
      ],
      "outputs": [],
      "metadata": {}
    },
    {
      "cell_type": "code",
      "execution_count": 18,
      "source": [
        "# Calcular la distancia entre planetas\r\n",
        "\r\n",
        "distance_km = second_planet - first_planet\r\n",
        "print(distance_km)\r\n",
        "\r\n",
        "distance_mi = distance_km * 0.621\r\n",
        "print(distance_mi)"
      ],
      "outputs": [
        {
          "output_type": "stream",
          "name": "stdout",
          "text": [
            "628949330\n",
            "390577533.93\n"
          ]
        }
      ],
      "metadata": {}
    },
    {
      "cell_type": "markdown",
      "source": [
        "### Ejercicio 2"
      ],
      "metadata": {}
    },
    {
      "cell_type": "code",
      "execution_count": 22,
      "source": [
        "# Almacenar las entradas del usuario\r\n",
        "first_planet = input('Introduzca la distancia del sol para el primer planeta en KM')\r\n",
        "second_planet = input('Introduzca la distancia desde el sol para el segundo planeta en KM')"
      ],
      "outputs": [],
      "metadata": {}
    },
    {
      "cell_type": "code",
      "execution_count": 23,
      "source": [
        "# Convierte las cadenas de ambos planetas a números enteros\r\n",
        "first_planet = int(first_planet)\r\n",
        "second_planet = int(second_planet)"
      ],
      "outputs": [],
      "metadata": {}
    },
    {
      "cell_type": "code",
      "execution_count": 24,
      "source": [
        "# Realizar el cálculo y determinar el valor absoluto\r\n",
        "distance_km = second_planet - first_planet\r\n",
        "print(distance_km)\r\n",
        "\r\n",
        "# Convertir de KM a Millas\r\n",
        "distance_mi = distance_km * 0.621\r\n",
        "print(abs(distance_mi))"
      ],
      "outputs": [
        {
          "output_type": "stream",
          "name": "stdout",
          "text": [
            "-767801\n",
            "476804.421\n"
          ]
        }
      ],
      "metadata": {}
    },
    {
      "cell_type": "markdown",
      "source": [
        "---\n",
        "\n",
        "Curso Propedútico de Python para Launch X - Innovacción Virtual.\n",
        "\n",
        "Material desarrollado con base en los contenidos de MSLearn y la metáfora de LaunchX, traducción e implementación por: Fernanda Ochoa - Learning Producer de LaunchX.\n",
        "\n",
        "Redes:\n",
        "* GitHub: [FernandaOchoa](https://github.com/FernandaOchoa)\n",
        "* Twitter: [@imonsh](https://twitter.com/imonsh)\n",
        "* Instagram: [fherz8a](https://www.instagram.com/fherz8a/)"
      ],
      "metadata": {}
    }
  ],
  "metadata": {
    "interpreter": {
      "hash": "18a28c16c91a406274ab2f59cc964ac3494d88838e92ff8f157216fbe7ec26de"
    },
    "kernel_info": {
      "name": "conda-env-py37_default-py"
    },
    "kernelspec": {
      "name": "python3",
      "display_name": "Python 3.9.5 64-bit"
    },
    "language_info": {
      "codemirror_mode": {
        "name": "ipython",
        "version": 3
      },
      "file_extension": ".py",
      "mimetype": "text/x-python",
      "name": "python",
      "nbconvert_exporter": "python",
      "pygments_lexer": "ipython3",
      "version": "3.9.5"
    },
    "nteract": {
      "version": "nteract-front-end@1.0.0"
    },
    "orig_nbformat": 4
  },
  "nbformat": 4,
  "nbformat_minor": 2
}